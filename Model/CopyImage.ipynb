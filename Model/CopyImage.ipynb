{
 "cells": [
  {
   "cell_type": "code",
   "execution_count": null,
   "id": "a5adb475",
   "metadata": {},
   "outputs": [],
   "source": [
    "import os\n",
    "import random\n",
    "import shutil\n",
    "import tensorflow as tf\n",
    "\n",
    "# Define constants\n",
    "original_dataset_path = 'E:\\\\python\\\\ML\\\\pothole_detection_CNN\\\\Datasets'\n",
    "output_dataset_path = 'E:\\\\python\\\\ML\\\\pothole_detection_CNN\\\\Data400'\n",
    "target_images_per_class = 400\n",
    "\n",
    "# Load the original dataset\n",
    "dataset = tf.keras.preprocessing.image_dataset_from_directory(\n",
    "    original_dataset_path,\n",
    "    shuffle=True,\n",
    ")\n",
    "\n",
    "class_names = dataset.class_names\n",
    "\n",
    "\n",
    "def copy_images_per_class(original_path, output_path, class_names, target_images_per_class):\n",
    "    for class_name in class_names:\n",
    "        class_path = os.path.join(original_path, class_name)\n",
    "        all_images = os.listdir(class_path)\n",
    "        selected_images = random.sample(all_images, target_images_per_class)\n",
    "        class_output_path = os.path.join(output_path, class_name)\n",
    "        os.makedirs(class_output_path, exist_ok=True)\n",
    "        for image_name in selected_images:\n",
    "            image_path = os.path.join(class_path, image_name)\n",
    "            shutil.copy(image_path, class_output_path)\n",
    "copy_images_per_class(original_dataset_path, output_dataset_path, class_names, target_images_per_class)\n",
    "print(f\"Successfully copied {target_images_per_class} images per class to {output_dataset_path}.\")\n"
   ]
  }
 ],
 "metadata": {
  "language_info": {
   "name": "python"
  }
 },
 "nbformat": 4,
 "nbformat_minor": 5
}
