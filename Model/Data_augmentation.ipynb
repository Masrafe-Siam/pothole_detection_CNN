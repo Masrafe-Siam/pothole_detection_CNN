{
 "cells": [
  {
   "cell_type": "code",
   "execution_count": 1,
   "id": "0626a853",
   "metadata": {},
   "outputs": [],
   "source": [
    "#data aumentatioin\n",
    "import os\n",
    "from tensorflow.keras.preprocessing.image import ImageDataGenerator, load_img, img_to_array\n",
    "\n",
    "# Define the augmentation generator\n",
    "datagen = ImageDataGenerator(\n",
    "    rotation_range=45,\n",
    "    width_shift_range=0.2,\n",
    "    height_shift_range=0.2,\n",
    "    shear_range=0.2,\n",
    "    zoom_range=0.2,\n",
    "    horizontal_flip=True,\n",
    "    brightness_range=(0.5, 1.5),\n",
    "    fill_mode='nearest'\n",
    ")\n",
    "\n",
    "# Base input/output paths\n",
    "base_input_dir = 'E:\\Python\\Data Science\\Road Damage\\pothole_detection_CNN\\Data400'\n",
    "base_output_dir = 'E:\\Python\\Data Science\\Road Damage\\pothole_detection_CNN\\Data_400_aug'\n",
    "num_augmented_images = 4  # How many augmented images per original\n",
    "\n",
    "# Automatically detect class subfolders\n",
    "class_names = [d for d in os.listdir(base_input_dir) if os.path.isdir(os.path.join(base_input_dir, d))]\n",
    "\n",
    "# Process each class folder\n",
    "for class_name in class_names:\n",
    "    input_folder = os.path.join(base_input_dir, class_name)\n",
    "    output_folder = os.path.join(base_output_dir, class_name.replace(' ', '_').lower() + '_aug')\n",
    "\n",
    "    os.makedirs(output_folder, exist_ok=True)\n",
    "\n",
    "    for filename in os.listdir(input_folder):\n",
    "        img_path = os.path.join(input_folder, filename)\n",
    "        if not img_path.lower().endswith(('.jpg', '.jpeg', '.png')):\n",
    "            continue\n",
    "\n",
    "        img = load_img(img_path, target_size=(256, 256))\n",
    "        x = img_to_array(img)\n",
    "        x = x.reshape((1,) + x.shape)\n",
    "\n",
    "        aug_iter = datagen.flow(\n",
    "            x,\n",
    "            batch_size=1,\n",
    "            save_to_dir=output_folder,\n",
    "            save_prefix='aug',\n",
    "            save_format='jpg'\n",
    "        )\n",
    "\n",
    "        for _ in range(num_augmented_images):\n",
    "            next(aug_iter)\n"
   ]
  }
 ],
 "metadata": {
  "kernelspec": {
   "display_name": "venv",
   "language": "python",
   "name": "python3"
  },
  "language_info": {
   "codemirror_mode": {
    "name": "ipython",
    "version": 3
   },
   "file_extension": ".py",
   "mimetype": "text/x-python",
   "name": "python",
   "nbconvert_exporter": "python",
   "pygments_lexer": "ipython3",
   "version": "3.10.11"
  }
 },
 "nbformat": 4,
 "nbformat_minor": 5
}
