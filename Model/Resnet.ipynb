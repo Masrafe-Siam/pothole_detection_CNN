{
 "cells": [
  {
   "cell_type": "code",
   "execution_count": null,
   "id": "567ccb0d",
   "metadata": {},
   "outputs": [],
   "source": [
    "import tensorflow as tf\n",
    "import matplotlib.pyplot as plt\n",
    "from IPython.display import HTML\n",
    "import numpy as np\n",
    "from keras import models, layers\n",
    "from sklearn.metrics import classification_report, f1_score"
   ]
  },
  {
   "cell_type": "code",
   "execution_count": null,
   "id": "610fa472",
   "metadata": {},
   "outputs": [],
   "source": [
    "BATCH_SIZE = 32\n",
    "IMAGE_SIZE = 256\n",
    "CHANNELS = 3\n",
    "EPOCHS = 50\n",
    "INPUT_SHAPE = (IMAGE_SIZE, IMAGE_SIZE, CHANNELS)\n",
    "CLASS_NAMES = ['Crack detected', 'Pothole', 'Surface erosion']\n",
    "N_CLASSES = len(CLASS_NAMES)"
   ]
  },
  {
   "cell_type": "code",
   "execution_count": null,
   "id": "c86ede1e",
   "metadata": {},
   "outputs": [],
   "source": [
    "dataset = tf.keras.preprocessing.image_dataset_from_directory(\n",
    "    'E:\\python\\ML\\pothole_detection_CNN\\Datasets',\n",
    "    shuffle = True,\n",
    "    image_size = (IMAGE_SIZE, IMAGE_SIZE),\n",
    "    batch_size = BATCH_SIZE\n",
    ")"
   ]
  },
  {
   "cell_type": "code",
   "execution_count": null,
   "id": "4c255325",
   "metadata": {},
   "outputs": [],
   "source": [
    "class_names = dataset.class_names\n",
    "class_names"
   ]
  },
  {
   "cell_type": "code",
   "execution_count": null,
   "id": "03f152c5",
   "metadata": {},
   "outputs": [],
   "source": [
    "len(dataset)"
   ]
  },
  {
   "cell_type": "code",
   "execution_count": null,
   "id": "3dbd5716",
   "metadata": {},
   "outputs": [],
   "source": [
    "for image_batch, label_batch in dataset.take(1):\n",
    "    print(image_batch.shape)\n",
    "    print(label_batch.numpy())"
   ]
  },
  {
   "cell_type": "code",
   "execution_count": null,
   "id": "545270df",
   "metadata": {},
   "outputs": [],
   "source": [
    "plt.figure(figsize=(10,10))\n",
    "for image_batch, label_batch in dataset.take(1):\n",
    "    for i in range(12):\n",
    "        ax = plt.subplot(3, 4, i+1)\n",
    "        plt.imshow(image_batch[i].numpy().astype('uint8'))\n",
    "        plt.title(class_names[label_batch[i]])\n",
    "        plt.axis('off')"
   ]
  },
  {
   "cell_type": "code",
   "execution_count": null,
   "id": "6610ea52",
   "metadata": {},
   "outputs": [],
   "source": [
    "train_size = 0.8\n",
    "len(dataset)*train_size"
   ]
  },
  {
   "cell_type": "code",
   "execution_count": null,
   "id": "76baefd9",
   "metadata": {},
   "outputs": [],
   "source": [
    "train_data = dataset.take(38)\n",
    "len(train_data)"
   ]
  },
  {
   "cell_type": "code",
   "execution_count": null,
   "id": "8389f535",
   "metadata": {},
   "outputs": [],
   "source": [
    "test_data = dataset.skip(38)\n",
    "len(test_data)"
   ]
  },
  {
   "cell_type": "code",
   "execution_count": null,
   "id": "0f39955d",
   "metadata": {},
   "outputs": [],
   "source": [
    "validation_size = 0.1\n",
    "len(dataset)*validation_size"
   ]
  },
  {
   "cell_type": "code",
   "execution_count": null,
   "id": "9c308e1c",
   "metadata": {},
   "outputs": [],
   "source": [
    "validation_data  = test_data.take(4)\n",
    "len(validation_data)"
   ]
  },
  {
   "cell_type": "code",
   "execution_count": null,
   "id": "62888370",
   "metadata": {},
   "outputs": [],
   "source": [
    "test_data = test_data.skip(4)\n",
    "len(test_data)"
   ]
  },
  {
   "cell_type": "code",
   "execution_count": null,
   "id": "6e389059",
   "metadata": {},
   "outputs": [],
   "source": [
    "# Dataset split function\n",
    "def get_dataset_partition(ds, train_split=0.8, val_split=0.1, test_split=0.1, shuffle=True, shuffle_size=10000):\n",
    "    ds_size = tf.data.experimental.cardinality(ds).numpy()\n",
    "    if shuffle:\n",
    "        ds = ds.shuffle(shuffle_size, seed=12)\n",
    "    train_size = int(train_split * ds_size)\n",
    "    val_size = int(val_split * ds_size)\n",
    "    train_ds = ds.take(train_size)\n",
    "    val_ds = ds.skip(train_size).take(val_size)\n",
    "    test_ds = ds.skip(train_size + val_size)\n",
    "    return train_ds, val_ds, test_ds\n"
   ]
  },
  {
   "cell_type": "code",
   "execution_count": null,
   "id": "48a6921e",
   "metadata": {},
   "outputs": [],
   "source": [
    "train_data, validation_data, test_data = get_dataset_partition(dataset)"
   ]
  },
  {
   "cell_type": "code",
   "execution_count": null,
   "id": "86b9dc63",
   "metadata": {},
   "outputs": [],
   "source": [
    "len(train_data)\n",
    "len(validation_data)\n",
    "len(test_data)"
   ]
  },
  {
   "cell_type": "code",
   "execution_count": null,
   "id": "f4e12cd6",
   "metadata": {},
   "outputs": [],
   "source": [
    "def prepare(ds):\n",
    "    return ds.cache().shuffle(1000).prefetch(buffer_size=tf.data.AUTOTUNE)\n",
    "\n",
    "train_data = prepare(train_data)\n",
    "validation_data = prepare(validation_data)\n",
    "test_data = prepare(test_data)"
   ]
  },
  {
   "cell_type": "code",
   "execution_count": null,
   "id": "f6690012",
   "metadata": {},
   "outputs": [],
   "source": [
    "resize_and_rescale = tf.keras.Sequential([\n",
    "    layers.Resizing(IMAGE_SIZE, IMAGE_SIZE),\n",
    "    layers.Rescaling(1.0/255)\n",
    "])"
   ]
  },
  {
   "cell_type": "code",
   "execution_count": null,
   "id": "ce562a35",
   "metadata": {},
   "outputs": [],
   "source": [
    "data_augmentation = tf.keras.Sequential([\n",
    "    layers.RandomFlip(\"horizontal_and_vertical\"),\n",
    "    layers.RandomRotation(0.2)\n",
    "])"
   ]
  },
  {
   "cell_type": "code",
   "execution_count": null,
   "id": "8ed0582a",
   "metadata": {},
   "outputs": [],
   "source": [
    "def build_resnet50_model():\n",
    "    base = tf.keras.applications.ResNet50(include_top=False, input_shape=INPUT_SHAPE, weights='imagenet')\n",
    "    base.trainable = False\n",
    "    model = models.Sequential([\n",
    "        resize_and_rescale,\n",
    "        data_augmentation,\n",
    "        base,\n",
    "        layers.GlobalAveragePooling2D(),\n",
    "        layers.Dense(128, activation='relu'),\n",
    "        layers.Dropout(0.3),\n",
    "        layers.Dense(N_CLASSES, activation='softmax')\n",
    "    ])\n",
    "    return model"
   ]
  },
  {
   "cell_type": "code",
   "execution_count": null,
   "id": "d86e219a",
   "metadata": {},
   "outputs": [],
   "source": [
    "model = build_resnet50_model()"
   ]
  },
  {
   "cell_type": "code",
   "execution_count": null,
   "id": "befd97b8",
   "metadata": {},
   "outputs": [],
   "source": [
    "model.summary()"
   ]
  },
  {
   "cell_type": "code",
   "execution_count": null,
   "id": "681127e0",
   "metadata": {},
   "outputs": [],
   "source": [
    "model.compile(\n",
    "    optimizer='adam',\n",
    "    loss = tf.keras.losses.SparseCategoricalCrossentropy(from_logits=False),\n",
    "    metrics=['accuracy']\n",
    ")"
   ]
  },
  {
   "cell_type": "code",
   "execution_count": null,
   "id": "3fdf1006",
   "metadata": {},
   "outputs": [],
   "source": [
    "# Train model\n",
    "history = model.fit(\n",
    "    train_data,\n",
    "    epochs=EPOCHS,\n",
    "    validation_data=validation_data\n",
    ")"
   ]
  },
  {
   "cell_type": "code",
   "execution_count": null,
   "id": "ba496e07",
   "metadata": {},
   "outputs": [],
   "source": [
    "scores = model.evaluate(test_data)\n",
    "scores"
   ]
  },
  {
   "cell_type": "code",
   "execution_count": null,
   "id": "d635f540",
   "metadata": {},
   "outputs": [],
   "source": [
    "model.save(\"Trained Model/CNN.h5\")"
   ]
  },
  {
   "cell_type": "code",
   "execution_count": null,
   "id": "0817f6fa",
   "metadata": {},
   "outputs": [],
   "source": [
    "history.params"
   ]
  },
  {
   "cell_type": "code",
   "execution_count": null,
   "id": "697516d7",
   "metadata": {},
   "outputs": [],
   "source": [
    "history.history.keys()"
   ]
  },
  {
   "cell_type": "code",
   "execution_count": null,
   "id": "be78ca59",
   "metadata": {},
   "outputs": [],
   "source": [
    "history.history['accuracy']"
   ]
  },
  {
   "cell_type": "code",
   "execution_count": null,
   "id": "61d81167",
   "metadata": {},
   "outputs": [],
   "source": [
    "# Collect true and predicted labels\n",
    "y_true = []\n",
    "y_pred = []\n",
    "\n",
    "for images, labels in test_data:\n",
    "    preds = model.predict(images)\n",
    "    y_true.extend(labels.numpy())\n",
    "    y_pred.extend(np.argmax(preds, axis=1))\n",
    "\n",
    "# Calculate F1 score (macro, weighted, etc.)\n",
    "print(\"F1 Score (macro):\", f1_score(y_true, y_pred, average='macro'))\n",
    "print(\"F1 Score (weighted):\", f1_score(y_true, y_pred, average='weighted'))\n",
    "\n",
    "# Optional: Full classification report\n",
    "print(\"\\nClassification Report:\\n\")\n",
    "print(classification_report(y_true, y_pred, target_names=class_names))"
   ]
  },
  {
   "cell_type": "code",
   "execution_count": null,
   "id": "d4dc8a85",
   "metadata": {},
   "outputs": [],
   "source": [
    "accuracy = history.history['accuracy']\n",
    "val_accuracy = history.history['val_accuracy']\n",
    "\n",
    "loss = history.history['loss']\n",
    "val_loss = history.history['val_loss']"
   ]
  },
  {
   "cell_type": "code",
   "execution_count": null,
   "id": "c6579d08",
   "metadata": {},
   "outputs": [],
   "source": [
    "\n",
    "plt.figure(figsize = (8,8))\n",
    "plt.subplot(1, 2, 1)\n",
    "plt.plot(range(EPOCHS), accuracy, label = \"Trainnign Accuracy\")\n",
    "plt.plot(range(EPOCHS), val_accuracy, label = \"Validation Accuracy\")\n",
    "plt.legend(loc = 'lower right')\n",
    "plt.title(\"Trainnign & Validation Accuracy\")\n",
    "\n",
    "plt.figure(figsize = (8,8))\n",
    "plt.subplot(1, 2, 2)\n",
    "plt.plot(range(EPOCHS), loss, label = \"Trainnign Loss\")\n",
    "plt.plot(range(EPOCHS), val_loss, label = \"Validation Loss\")\n",
    "plt.legend(loc = 'upper right')\n",
    "plt.title(\"Trainnign & Validation Loss\")\n",
    "plt.show()"
   ]
  },
  {
   "cell_type": "code",
   "execution_count": null,
   "id": "3570cf80",
   "metadata": {},
   "outputs": [],
   "source": [
    "model.evaluate(test_data)"
   ]
  },
  {
   "cell_type": "code",
   "execution_count": null,
   "id": "60f6bf68",
   "metadata": {},
   "outputs": [],
   "source": [
    "import numpy as np\n",
    "for image_batch, label_batch in test_data.take(1):\n",
    "    first_image = (image_batch[0].numpy().astype('uint8'))\n",
    "    first_label = label_batch[0].numpy()\n",
    "    \n",
    "    print(\"First image to predict\")\n",
    "    plt.imshow(first_image)\n",
    "    print(\"First image actual label: \", class_names[first_label])\n",
    "    \n",
    "    batch_prediction = model.predict(image_batch)\n",
    "    print(\"Predicted Label: \",class_names[np.argmax(batch_prediction[0])])"
   ]
  },
  {
   "cell_type": "code",
   "execution_count": null,
   "id": "2147c5b2",
   "metadata": {},
   "outputs": [],
   "source": [
    "def predict(model, img):\n",
    "    # Expand image dims and predict\n",
    "    img_array = tf.keras.preprocessing.image.img_to_array(img)\n",
    "    img_array_expanded = tf.expand_dims(img_array, 0)\n",
    "    prediction = model.predict(img_array_expanded, verbose=0)\n",
    "\n",
    "    predicted_class = class_names[np.argmax(prediction[0])]\n",
    "    confidence = round(100 * (np.max(prediction[0])), 2)\n",
    "\n",
    "    # Lighting detection\n",
    "    grayscale_img = tf.image.rgb_to_grayscale(img_array)\n",
    "    brightness = tf.reduce_mean(grayscale_img).numpy()\n",
    "\n",
    "    if brightness < 100:\n",
    "        lighting = \"Low light\"\n",
    "    elif brightness > 180:\n",
    "        lighting = \"High light\"\n",
    "    else:\n",
    "        lighting = \"Normal lighting\"\n",
    "\n",
    "    return predicted_class, confidence, lighting"
   ]
  },
  {
   "cell_type": "code",
   "execution_count": null,
   "id": "e792b1a8",
   "metadata": {},
   "outputs": [],
   "source": [
    "plt.figure(figsize=(14, 15))\n",
    "for images, labels in test_data.take(1):\n",
    "    for i in range(9):\n",
    "        ax = plt.subplot(3, 3, i + 1)\n",
    "        img = images[i].numpy().astype(\"uint8\")\n",
    "        plt.imshow(img)\n",
    "\n",
    "        predicted_class, confidence, lighting = predict(model, img)\n",
    "        actual_class = class_names[labels[i]]\n",
    "        print(f\"Confidence:->{confidence} Light:-> {lighting}\")\n",
    "        plt.title(f\"Actual: {actual_class}\\nPredicted: {predicted_class}\\nConfidence: {confidence}%\\nLighting: {lighting}\")\n",
    "        plt.axis(\"off\")"
   ]
  },
  {
   "cell_type": "code",
   "execution_count": null,
   "id": "80fb6a22",
   "metadata": {},
   "outputs": [],
   "source": [
    "confidence_threshold = 0.8\n",
    "if confidence >= confidence_threshold:\n",
    "    print(f\"Prediction: {predicted_class}, Confidence: {confidence}\")\n",
    "else:\n",
    "    print(\"Prediction confidence is too low.\")\n"
   ]
  },
  {
   "cell_type": "code",
   "execution_count": null,
   "id": "732a0476",
   "metadata": {},
   "outputs": [],
   "source": [
    "import numpy as np\n",
    "import matplotlib.pyplot as plt\n",
    "from sklearn.metrics import confusion_matrix, ConfusionMatrixDisplay\n",
    "\n",
    "# Step 1: Get true and predicted labels\n",
    "y_true = []\n",
    "y_pred = []\n",
    "\n",
    "# Loop through test dataset\n",
    "for images, labels in test_data:\n",
    "    predictions = model.predict(images)\n",
    "    \n",
    "    y_true.extend(labels.numpy())  # Use labels directly\n",
    "    y_pred.extend(np.argmax(predictions, axis=1))\n",
    "\n",
    "\n",
    "# Step 2: Generate confusion matrix\n",
    "cm = confusion_matrix(y_true, y_pred)\n",
    "\n",
    "# Optional: If you want custom class names\n",
    "class_names = ['Crack', 'Pothole', 'Surface Erosion']  # Replace with your actual class names\n",
    "\n",
    "# Step 3: Plot and save the confusion matrix\n",
    "disp = ConfusionMatrixDisplay(confusion_matrix=cm, display_labels=class_names)\n",
    "fig, ax = plt.subplots(figsize=(6, 6))  # Adjust figure size if needed\n",
    "disp.plot(ax=ax, cmap=plt.cm.Blues)\n",
    "\n",
    "# Save as image\n",
    "plt.savefig(\"confusion_matrix.png\", dpi=300, bbox_inches='tight')\n",
    "plt.show()\n"
   ]
  },
  {
   "cell_type": "code",
   "execution_count": null,
   "id": "bed6e250",
   "metadata": {},
   "outputs": [],
   "source": [
    "import numpy as np\n",
    "import matplotlib.pyplot as plt\n",
    "from sklearn.metrics import confusion_matrix, ConfusionMatrixDisplay\n",
    "\n",
    "# Optional: define class names based on your dataset\n",
    "class_names = ['Crack', 'Pothole', 'Surface Erosion']  # Update if you have different classes\n",
    "\n",
    "# Step 1: Get true and predicted labels\n",
    "y_true = []\n",
    "y_pred = []\n",
    "\n",
    "# Loop through test dataset\n",
    "for images, labels in test_data:\n",
    "    predictions = model.predict(images)\n",
    "    \n",
    "    # If labels are integer-encoded (not one-hot)\n",
    "    y_true.extend(labels.numpy())\n",
    "    y_pred.extend(np.argmax(predictions, axis=1))\n",
    "\n",
    "# Step 2: Generate confusion matrix\n",
    "cm = confusion_matrix(y_true, y_pred)\n",
    "\n",
    "# Step 3: Normalize the confusion matrix (row-wise normalization)\n",
    "cm_normalized = cm.astype('float') / cm.sum(axis=1)[:, np.newaxis]\n",
    "\n",
    "# Step 4: Plot the normalized confusion matrix\n",
    "disp = ConfusionMatrixDisplay(confusion_matrix=cm_normalized, display_labels=class_names)\n",
    "fig, ax = plt.subplots(figsize=(6, 6))\n",
    "disp.plot(ax=ax, cmap=plt.cm.Blues, values_format=\".2f\")  # 2 decimal places\n",
    "\n",
    "# Step 5: Save and show the plot\n",
    "plt.title(\"build_VGG19_model\")\n",
    "plt.savefig(\"confusion_matrix_normalized.png\", dpi=300, bbox_inches='tight')\n",
    "plt.show()\n"
   ]
  }
 ],
 "metadata": {
  "kernelspec": {
   "display_name": "venv",
   "language": "python",
   "name": "python3"
  },
  "language_info": {
   "codemirror_mode": {
    "name": "ipython",
    "version": 3
   },
   "file_extension": ".py",
   "mimetype": "text/x-python",
   "name": "python",
   "nbconvert_exporter": "python",
   "pygments_lexer": "ipython3",
   "version": "3.12.3"
  }
 },
 "nbformat": 4,
 "nbformat_minor": 5
}
